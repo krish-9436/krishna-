{
 "cells": [
  {
   "cell_type": "markdown",
   "metadata": {},
   "source": [
    "<center>\n",
    "    <img src=\"https://cf-courses-data.s3.us.cloud-object-storage.appdomain.cloud/IBMDeveloperSkillsNetwork-DS0105EN-SkillsNetwork/labs/Module2/images/SN_web_lightmode.png\" width=\"300\" alt=\"cognitiveclass.ai logo\">\n",
    "</center>\n"
   ]
  },
  {
   "cell_type": "markdown",
   "metadata": {},
   "source": [
    "#### Add your code below following the instructions given in the course\n"
   ]
  },
  {
   "cell_type": "markdown",
   "metadata": {},
   "source": [
    "# The Science and Art of Urban Soundscapes: Designing Cities for Our Ears\n"
   ]
  },
  {
   "cell_type": "markdown",
   "metadata": {},
   "source": [
    "## Introduction\n",
    "This notebook explores the field of urban soundscapes, focusing on how city environments are designed to influence the sounds we hear. From noisy streets to tranquil parks, sound is a crucial part of urban experience. We will look into the languages, tools, and libraries used to study soundscapes and acoustic design.\n"
   ]
  },
  {
   "cell_type": "markdown",
   "metadata": {},
   "source": [
    "## Data Science Languages for Urban Soundscape Studies\n",
    "Languages commonly used for analyzing and modeling urban soundscapes include:\n",
    "- Python (for data analysis and sound modeling)\n",
    "- R (for statistical analysis and data visualization)\n",
    "- SQL (for managing large sound data sets)\n",
    "- MATLAB (for acoustic analysis)\n"
   ]
  },
  {
   "cell_type": "markdown",
   "metadata": {},
   "source": [
    "## Data Science Libraries\n",
    "Some libraries commonly used for soundscape analysis and modeling are:\n",
    "- Librosa (Python library for audio processing)\n",
    "- Pandas (data manipulation and analysis)\n",
    "- NumPy (numerical computing)\n",
    "- Scikit-learn (machine learning for classification of sounds)\n",
    "- Matplotlib (data visualization for sound pattern analysis)\n"
   ]
  },
  {
   "cell_type": "markdown",
   "metadata": {},
   "source": [
    "## Tools for Urban Soundscape Analysis\n",
    "\n",
    "| Tool               | Description                                   |\n",
    "|--------------------|-----------------------------------------------|\n",
    "| Audacity           | Software for audio editing and processing     |\n",
    "| ArcGIS             | Geographic information system for mapping sound zones |\n",
    "| Jupyter Notebook   | Environment for interactive data analysis     |\n",
    "| QGIS               | Open-source GIS for mapping spatial sound data|\n",
    "| Tableau            | Tool for visualizing soundscape data          |\n"
   ]
  },
  {
   "cell_type": "markdown",
   "metadata": {},
   "source": [
    "## Arithmetic Expression Examples in Sound Analysis\n",
    "Basic arithmetic expressions help analyze sound data, such as calculating average noise levels or adjusting volume in decibels.\n"
   ]
  },
  {
   "cell_type": "markdown",
   "metadata": {},
   "source": [
    "# Example: Calculate the total noise level by multiplying base level by an increase factor and adding ambient noise.\n",
    "base_level = 40\n",
    "increase_factor = 2\n",
    "ambient_noise = 5\n",
    "total_noise = (base_level * increase_factor) + ambient_noise\n",
    "total_noise\n"
   ]
  },
  {
   "cell_type": "markdown",
   "metadata": {},
   "source": [
    "# Convert duration of a sound recording from minutes to hours\n",
    "minutes = 120\n",
    "hours = minutes / 60\n",
    "hours\n"
   ]
  },
  {
   "cell_type": "markdown",
   "metadata": {},
   "source": [
    "## Objectives\n",
    "- Understand the key tools and languages for soundscape analysis\n",
    "- Identify libraries used in sound data processing\n",
    "- Learn basic arithmetic operations in sound analysis\n",
    "- Perform unit conversions for time in sound recordings\n"
   ]
  },
  {
   "cell_type": "markdown",
   "metadata": {},
   "source": [
    "## Author\n",
    "Krishna Rathor\n"
   ]
  },
  {
   "cell_type": "code",
   "execution_count": null,
   "metadata": {},
   "outputs": [],
   "source": []
  }
 ],
 "metadata": {
  "kernelspec": {
   "display_name": "Python 3 (ipykernel)",
   "language": "python",
   "name": "python3"
  },
  "language_info": {
   "codemirror_mode": {
    "name": "ipython",
    "version": 3
   },
   "file_extension": ".py",
   "mimetype": "text/x-python",
   "name": "python",
   "nbconvert_exporter": "python",
   "pygments_lexer": "ipython3",
   "version": "3.11.9"
  }
 },
 "nbformat": 4,
 "nbformat_minor": 4
}
